{
 "cells": [
  {
   "cell_type": "code",
   "execution_count": 1,
   "id": "47263298-7423-4943-9e4b-f4f2e3616da5",
   "metadata": {},
   "outputs": [],
   "source": [
    "# Import the pathlib and csv library\n",
    "from pathlib import Path\n",
    "import csv"
   ]
  },
  {
   "cell_type": "code",
   "execution_count": 2,
   "id": "1e08b4dd-1676-44c0-accd-7fc83f1639c1",
   "metadata": {},
   "outputs": [],
   "source": [
    "# Set the file path\n",
    "csvpath = Path('Resources/budget_data.csv')\n",
    "output_path = Path('financial_analysis.txt')\n"
   ]
  },
  {
   "cell_type": "code",
   "execution_count": 3,
   "id": "e6baeb25-6677-4f32-889a-c888416a5963",
   "metadata": {},
   "outputs": [],
   "source": [
    "# Initialize variables\n",
    "months = 0\n",
    "total = 0\n",
    "data = []"
   ]
  },
  {
   "cell_type": "code",
   "execution_count": 4,
   "id": "eb74d0be-c05f-4e44-ae84-eac1f7f5a0c6",
   "metadata": {},
   "outputs": [],
   "source": [
    "# Open the input path as a file object\n",
    "with open(csvpath, 'r') as csvfile:\n",
    "    # Pass in the csv file to the csv.reader() function\n",
    "    # (with ',' as the delmiter/separator) and return the csvreader object\n",
    "    csvreader = csv.reader(csvfile, delimiter=',')\n",
    "\n",
    "    # Go to the next row from the start of the file\n",
    "    header = next(csvreader)\n",
    "    \n",
    "    # Read each row of data after the header\n",
    "    for row in csvreader:\n",
    "        # Set variables equal to the value in each column of each row\n",
    "        amount = int(row[1])\n",
    "        datarow = { \"date\" : row[0], \"amount\" : amount}\n",
    "        # Append the row value to the list\n",
    "        data.append(datarow)\n",
    "        months += 1\n",
    "        total += amount"
   ]
  },
  {
   "cell_type": "code",
   "execution_count": 5,
   "id": "c8b9a67f-0b2f-4d9c-b771-2d0cf324cefa",
   "metadata": {},
   "outputs": [],
   "source": [
    "#initialize \n",
    "greatest_increase = { \"date\" : \"\", \"amount\" : 0 }\n",
    "greatest_decrease = { \"date\" : \"\", \"amount\" : 0 }"
   ]
  },
  {
   "cell_type": "code",
   "execution_count": 6,
   "id": "faadbeec-99c7-4259-a0b8-e1f7e1d922ab",
   "metadata": {},
   "outputs": [],
   "source": [
    "#Average\n",
    "average = round(total / months, 2)"
   ]
  },
  {
   "cell_type": "code",
   "execution_count": 7,
   "id": "2183e698-14d6-4bbe-aea6-c3129c696408",
   "metadata": {},
   "outputs": [],
   "source": [
    "#Intialize to max/min first element\n",
    "max_value = data[0][\"amount\"]\n",
    "min_value = data[0][\"amount\"]"
   ]
  },
  {
   "cell_type": "code",
   "execution_count": 8,
   "id": "6dffd70e-9d10-4978-b97f-17177479a59f",
   "metadata": {},
   "outputs": [],
   "source": [
    "#Find greatest increase\n",
    "for d in data:\n",
    "    if d[\"amount\"] > max_value:\n",
    "        max_value = d[\"amount\"]\n",
    "        greatest_increase[\"date\"] = d[\"date\"] \n",
    "        greatest_increase[\"amount\"] = d[\"amount\"]"
   ]
  },
  {
   "cell_type": "code",
   "execution_count": 9,
   "id": "edce58fd-5423-4220-8f71-5d28810c0815",
   "metadata": {},
   "outputs": [],
   "source": [
    "#Find greatest decrease\n",
    "for d in data:\n",
    "    if d[\"amount\"] < min_value:\n",
    "        min_value = d[\"amount\"]\n",
    "        greatest_decrease[\"date\"] = d[\"date\"] \n",
    "        greatest_decrease[\"amount\"] = d[\"amount\"]"
   ]
  },
  {
   "cell_type": "code",
   "execution_count": 10,
   "id": "69bc07b9-dc97-4b35-9577-8a9b1703b803",
   "metadata": {},
   "outputs": [],
   "source": [
    "def print_and_write(file, text):\n",
    "    print(text)\n",
    "    file.write(text + \"\\n\")"
   ]
  },
  {
   "cell_type": "code",
   "execution_count": 11,
   "id": "ac2959e4-5fb1-487f-b57e-c2f8df3219d8",
   "metadata": {},
   "outputs": [
    {
     "name": "stdout",
     "output_type": "stream",
     "text": [
      "  Financial Analysis\n",
      "  ----------------------------\n",
      "  Total Months: 86\n",
      "  Total: $38382578.00\n",
      "  Average  Change: $446309.05\n",
      "  Greatest Increase in Profits: Feb-2012 ($1170593.00)\n",
      "  Greatest Decrease in Profits: Sep-2013 ($-1196225.00)\n"
     ]
    }
   ],
   "source": [
    "#print the analysis to the terminal         \n",
    "#export a text file with the results\n",
    "with open(output_path, 'w') as file:\n",
    "    print_and_write(file, f\"  Financial Analysis\")\n",
    "    print_and_write(file, f\"  ----------------------------\")\n",
    "    print_and_write(file, f\"  Total Months: {months}\")\n",
    "    print_and_write(file, f\"  Total: ${total:.2f}\")\n",
    "    print_and_write(file, f\"  Average  Change: ${average:.2f}\")\n",
    "    print_and_write(file, f\"  Greatest Increase in Profits: {greatest_increase['date']} (${round(greatest_increase['amount'], 2):.2f})\")\n",
    "    print_and_write(file, f\"  Greatest Decrease in Profits: {greatest_decrease['date']} (${round(greatest_decrease['amount'], 2):.2f})\")"
   ]
  },
  {
   "cell_type": "code",
   "execution_count": null,
   "id": "7437ed96-d766-44d9-9a49-66e4953c3bcc",
   "metadata": {},
   "outputs": [],
   "source": []
  }
 ],
 "metadata": {
  "kernelspec": {
   "display_name": "Python 3 (ipykernel)",
   "language": "python",
   "name": "python3"
  },
  "language_info": {
   "codemirror_mode": {
    "name": "ipython",
    "version": 3
   },
   "file_extension": ".py",
   "mimetype": "text/x-python",
   "name": "python",
   "nbconvert_exporter": "python",
   "pygments_lexer": "ipython3",
   "version": "3.10.9"
  }
 },
 "nbformat": 4,
 "nbformat_minor": 5
}
